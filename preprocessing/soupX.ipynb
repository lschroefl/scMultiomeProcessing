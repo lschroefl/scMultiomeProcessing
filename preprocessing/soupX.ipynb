{
 "cells": [
  {
   "cell_type": "markdown",
   "metadata": {},
   "source": [
    "## LOAD LIBRARIES"
   ]
  },
  {
   "cell_type": "code",
   "execution_count": 1,
   "metadata": {
    "vscode": {
     "languageId": "plaintext"
    }
   },
   "outputs": [],
   "source": [
    "import scanpy as sc\n",
    "import numpy as np\n",
    "import matplotlib.pyplot as plt\n",
    "import scipy\n",
    "import pandas as pd\n",
    "import os\n",
    "import anndata as ad"
   ]
  },
  {
   "cell_type": "code",
   "execution_count": 2,
   "metadata": {},
   "outputs": [
    {
     "name": "stdout",
     "output_type": "stream",
     "text": [
      "['multiome95_VE-PC_E95_wholeEmbryo_VE_2_IGO_17225_3', 'multiome95_VE-PC_Guttube_DE_IGO_17225_2', 'multiome95_VE-PC_wholeEmbryo_VE_1_IGO_17225_1']\n",
      "/data/hadjantalab/lucas/sonja_project/preprocessing/mapping/multiome95/multiome95_VE-PC_E95_wholeEmbryo_VE_2_IGO_17225_3/multiome95_VE-PC_E95_wholeEmbryo_VE_2_IGO_17225_3/outs\n",
      "/data/hadjantalab/lucas/sonja_project/preprocessing/mapping/multiome95/multiome95_VE-PC_Guttube_DE_IGO_17225_2/multiome95_VE-PC_Guttube_DE_IGO_17225_2/outs\n",
      "/data/hadjantalab/lucas/sonja_project/preprocessing/mapping/multiome95/multiome95_VE-PC_wholeEmbryo_VE_1_IGO_17225_1/multiome95_VE-PC_wholeEmbryo_VE_1_IGO_17225_1/outs\n"
     ]
    }
   ],
   "source": [
    "input_path = '/data/hadjantalab/lucas/sonja_project/preprocessing/mapping/multiome95'\n",
    "\n",
    "files = os.listdir(input_path)\n",
    "print(files)\n",
    "\n",
    "for file in files:\n",
    "    output_path = os.path.join(input_path, file, file, \"outs\")\n",
    "    print(output_path)"
   ]
  },
  {
   "cell_type": "markdown",
   "metadata": {},
   "source": [
    "### STRAIGHT TO R AND SOUPX"
   ]
  },
  {
   "cell_type": "code",
   "execution_count": 3,
   "metadata": {},
   "outputs": [
    {
     "name": "stdout",
     "output_type": "stream",
     "text": [
      "The history saving thread hit an unexpected error (OperationalError('attempt to write a readonly database')).History will not be written to the database.\n"
     ]
    }
   ],
   "source": [
    "## first thing before importing rpy2 is to set R_HOME\n",
    "os.environ[\"R_HOME\"] = \"/home/schroel1/miniconda3/envs/workshop_sail/lib/R\"\n",
    "\n",
    "import rpy2\n",
    "\n",
    "%load_ext rpy2.ipython"
   ]
  },
  {
   "cell_type": "code",
   "execution_count": 4,
   "metadata": {},
   "outputs": [
    {
     "name": "stdout",
     "output_type": "stream",
     "text": [
      "\n",
      "    WARNING: The R package \"reticulate\" only fixed recently\n",
      "    an issue that caused a segfault when used with rpy2:\n",
      "    https://github.com/rstudio/reticulate/pull/1188\n",
      "    Make sure that you use a version of that package that includes\n",
      "    the fix.\n",
      "    "
     ]
    }
   ],
   "source": [
    "%%R \n",
    "library('SoupX')\n"
   ]
  },
  {
   "cell_type": "code",
   "execution_count": 7,
   "metadata": {},
   "outputs": [
    {
     "data": {
      "text/plain": [
       "Loading raw count data\n",
       "10X data contains more than one type and is being returned as a list containing matrices of each type.\n",
       "Loading cell-only count data\n",
       "10X data contains more than one type and is being returned as a list containing matrices of each type.\n",
       "Loading extra analysis data where available\n",
       "70 genes passed tf-idf cut-off and 2 soup quantile filter.  Taking the top 2.\n",
       "Using 4 independent estimates of rho.\n",
       "Estimated global rho of 0.03\n",
       "Expanding counts from 8 clusters to 2370 cells.\n",
       "Loading raw count data\n",
       "10X data contains more than one type and is being returned as a list containing matrices of each type.\n",
       "Loading cell-only count data\n",
       "10X data contains more than one type and is being returned as a list containing matrices of each type.\n",
       "Loading extra analysis data where available\n",
       "96 genes passed tf-idf cut-off and 11 soup quantile filter.  Taking the top 11.\n",
       "Using 30 independent estimates of rho.\n",
       "Estimated global rho of 0.02\n",
       "Expanding counts from 8 clusters to 2587 cells.\n",
       "Loading raw count data\n",
       "10X data contains more than one type and is being returned as a list containing matrices of each type.\n",
       "Loading cell-only count data\n",
       "10X data contains more than one type and is being returned as a list containing matrices of each type.\n",
       "Loading extra analysis data where available\n",
       "65 genes passed tf-idf cut-off and 19 soup quantile filter.  Taking the top 19.\n",
       "Using 42 independent estimates of rho.\n",
       "Estimated global rho of 0.07\n",
       "Expanding counts from 7 clusters to 2133 cells.\n",
       "In addition: Warning messages:\n",
       "1: In autoEstCont(sc_ve1) :\n",
       "  Fewer than 10 marker genes found.  Is this channel low complexity (see help)?  If not, consider reducing tfidfMin or soupQuantile\n",
       "2: In autoEstCont(sc_ve1) :\n",
       "  Fewer than 10 independent estimates, rho estimation is likely to be unstable.  Consider reducing tfidfMin or increasing SoupMin.\n",
       "3: In sparseMatrix(i = out@i[w] + 1, j = out@j[w] + 1, x = out@x[w],  :\n",
       "  'giveCsparse' is deprecated; setting repr=\"T\" for you\n",
       "4: In sparseMatrix(i = out@i[w] + 1, j = out@j[w] + 1, x = out@x[w],  :\n",
       "  'giveCsparse' is deprecated; setting repr=\"T\" for you\n",
       "5: In sparseMatrix(i = out@i[w] + 1, j = out@j[w] + 1, x = out@x[w],  :\n",
       "  'giveCsparse' is deprecated; setting repr=\"T\" for you\n"
      ]
     },
     "metadata": {},
     "output_type": "display_data"
    },
    {
     "data": {
      "image/png": "[encoded data removed]",
      "text/plain": [
       "<IPython.core.display.Image object>"
      ]
     },
     "metadata": {},
     "output_type": "display_data"
    }
   ],
   "source": [
    "%%R -o out_ve1 -o out_ve2 -o out_de\n",
    "library('SoupX')\n",
    "\n",
    "sc_ve1 = load10X('/data/hadjantalab/lucas/sonja_project/preprocessing/mapping/multiome95/multiome95_VE-PC_wholeEmbryo_VE_1_IGO_17225_1/multiome95_VE-PC_wholeEmbryo_VE_1_IGO_17225_1/outs')\n",
    "#sc_ve1 = setContaminationFraction(sc_ve1, 0.3)\n",
    "sc_ve1 = autoEstCont(sc_ve1)\n",
    "out_ve1 = adjustCounts(sc_ve1)\n",
    "\n",
    "sc_ve2 = load10X('/data/hadjantalab/lucas/sonja_project/preprocessing/mapping/multiome95/multiome95_VE-PC_E95_wholeEmbryo_VE_2_IGO_17225_3/multiome95_VE-PC_E95_wholeEmbryo_VE_2_IGO_17225_3/outs')\n",
    "#sc_ve2 = setContaminationFraction(sc_ve2, 0.3)\n",
    "sc_ve2 = autoEstCont(sc_ve2)\n",
    "out_ve2 = adjustCounts(sc_ve2)\n",
    "\n",
    "sc_de = load10X('/data/hadjantalab/lucas/sonja_project/preprocessing/mapping/multiome95/multiome95_VE-PC_Guttube_DE_IGO_17225_2/multiome95_VE-PC_Guttube_DE_IGO_17225_2/outs')\n",
    "#sc_de = setContaminationFraction(sc_de, 0.3)\n",
    "sc_de = autoEstCont(sc_de)\n",
    "out_de = adjustCounts(sc_de)\n"
   ]
  },
  {
   "cell_type": "code",
   "execution_count": 8,
   "metadata": {},
   "outputs": [
    {
     "data": {
      "text/plain": [
       "<rpy2.robjects.methods.RS4 object at 0x2b958b078480> [RTYPES.S4SXP]\n",
       "R classes: ('dgCMatrix',)"
      ]
     },
     "execution_count": 8,
     "metadata": {},
     "output_type": "execute_result"
    }
   ],
   "source": [
    "out_ve1"
   ]
  },
  {
   "cell_type": "code",
   "execution_count": 25,
   "metadata": {},
   "outputs": [],
   "source": [
    "from rpy2.robjects import r, pandas2ri\n",
    "import rpy2.robjects as ro\n",
    "\n",
    "# Activate conversion\n",
    "pandas2ri.activate()\n",
    "\n",
    "\n",
    "def r_dgCMatrix_to_scipy(r_matrix):\n",
    "    i = np.array(r_matrix.do_slot('i'))\n",
    "    p = np.array(r_matrix.do_slot('p'))\n",
    "    x = np.array(r_matrix.do_slot('x'))\n",
    "    dims = tuple(r_matrix.do_slot('Dim'))\n",
    "    return scipy.sparse.csc_matrix((x, i, p), shape=dims)\n",
    "\n",
    "\n"
   ]
  },
  {
   "cell_type": "code",
   "execution_count": 26,
   "metadata": {},
   "outputs": [],
   "source": [
    "# Convert to sparse matrix\n",
    "X_ve1 = r_dgCMatrix_to_scipy(out_ve1)\n",
    "# Get gene names and barcodes\n",
    "genes_ve1 = list(r['rownames'](out_ve1))\n",
    "barcodes_ve1 = list(r['colnames'](out_ve1))\n",
    "X_ve1 = X_ve1.T  # This is essential\n",
    "# Create AnnData\n",
    "adata_ve1 = ad.AnnData(X=X_ve1)\n",
    "adata_ve1.obs_names = barcodes_ve1  # cells\n",
    "adata_ve1.var_names = genes_ve1  # genes\n",
    "# Optional: ensure uniqueness\n",
    "adata_ve1.obs_names_make_unique()\n",
    "adata_ve1.var_names_make_unique()\n",
    "\n",
    "\n",
    "# Convert to sparse matrix\n",
    "X_ve2 = r_dgCMatrix_to_scipy(out_ve2)\n",
    "# Get gene names and barcodes\n",
    "genes_ve2 = list(r['rownames'](out_ve2))\n",
    "barcodes_ve2 = list(r['colnames'](out_ve2))\n",
    "X_ve2 = X_ve2.T  # This is essential\n",
    "# Create AnnData\n",
    "adata_ve2 = ad.AnnData(X=X_ve2)\n",
    "adata_ve2.obs_names = barcodes_ve2  # cells\n",
    "adata_ve2.var_names = genes_ve2  # genes\n",
    "# Optional: ensure uniqueness\n",
    "adata_ve2.obs_names_make_unique()\n",
    "adata_ve2.var_names_make_unique()\n",
    "\n",
    "\n",
    "# Convert to sparse matrix\n",
    "X_de = r_dgCMatrix_to_scipy(out_de)\n",
    "# Get gene names and barcodes\n",
    "genes_de = list(r['rownames'](out_de))\n",
    "barcodes_de = list(r['colnames'](out_de))\n",
    "X_de = X_de.T  # This is essential\n",
    "# Create AnnData\n",
    "adata_de = ad.AnnData(X=X_de)\n",
    "adata_de.obs_names = barcodes_de  # cells\n",
    "adata_de.var_names = genes_de  # genes\n",
    "# Optional: ensure uniqueness\n",
    "adata_de.obs_names_make_unique()\n",
    "adata_de.var_names_make_unique()"
   ]
  },
  {
   "cell_type": "markdown",
   "metadata": {},
   "source": [
    "## SAVE OUTPUT"
   ]
  },
  {
   "cell_type": "code",
   "execution_count": 28,
   "metadata": {},
   "outputs": [
    {
     "name": "stdout",
     "output_type": "stream",
     "text": [
      "['multiome95_VE-PC_E95_wholeEmbryo_VE_2_IGO_17225_3', 'multiome95_VE-PC_Guttube_DE_IGO_17225_2', 'multiome95_VE-PC_wholeEmbryo_VE_1_IGO_17225_1']\n",
      "/data/hadjantalab/lucas/sonja_project/preprocessing/mapping/multiome95/multiome95_VE-PC_E95_wholeEmbryo_VE_2_IGO_17225_3/multiome95_VE-PC_E95_wholeEmbryo_VE_2_IGO_17225_3/outs/soupx\n",
      "/data/hadjantalab/lucas/sonja_project/preprocessing/mapping/multiome95/multiome95_VE-PC_Guttube_DE_IGO_17225_2/multiome95_VE-PC_Guttube_DE_IGO_17225_2/outs/soupx\n",
      "/data/hadjantalab/lucas/sonja_project/preprocessing/mapping/multiome95/multiome95_VE-PC_wholeEmbryo_VE_1_IGO_17225_1/multiome95_VE-PC_wholeEmbryo_VE_1_IGO_17225_1/outs/soupx\n"
     ]
    }
   ],
   "source": [
    "input_path = '/data/hadjantalab/lucas/sonja_project/preprocessing/mapping/multiome95'\n",
    "\n",
    "\n",
    "files = os.listdir(input_path)\n",
    "print(files)\n",
    "\n",
    "for file in files:\n",
    "    output_path = os.path.join(input_path, file, file, \"outs/soupx\")\n",
    "    print(output_path)\n",
    "    os.makedirs(output_path, exist_ok = True)"
   ]
  },
  {
   "cell_type": "code",
   "execution_count": 29,
   "metadata": {},
   "outputs": [],
   "source": [
    "data_path = \"/data/hadjantalab/lucas/sonja_project/preprocessing/mapping/multiome95/multiome95_VE-PC_wholeEmbryo_VE_1_IGO_17225_1/multiome95_VE-PC_wholeEmbryo_VE_1_IGO_17225_1/outs/soupx\"\n",
    "file_path = os.path.join(data_path, 'adata_soupx.h5ad')\n",
    "adata_ve1.write_h5ad(file_path)\n",
    "\n",
    "data_path = \"/data/hadjantalab/lucas/sonja_project/preprocessing/mapping/multiome95/multiome95_VE-PC_E95_wholeEmbryo_VE_2_IGO_17225_3/multiome95_VE-PC_E95_wholeEmbryo_VE_2_IGO_17225_3/outs/soupx\"\n",
    "file_path = os.path.join(data_path, 'adata_soupx.h5ad')\n",
    "adata_ve2.write_h5ad(file_path)\n",
    "\n",
    "data_path = \"/data/hadjantalab/lucas/sonja_project/preprocessing/mapping/multiome95/multiome95_VE-PC_Guttube_DE_IGO_17225_2/multiome95_VE-PC_Guttube_DE_IGO_17225_2/outs/soupx\"\n",
    "file_path = os.path.join(data_path, 'adata_soupx.h5ad')\n",
    "adata_de.write_h5ad(file_path)\n"
   ]
  }
 ],
 "metadata": {
  "kernelspec": {
   "display_name": "workshop_sail",
   "language": "python",
   "name": "workshop_sail"
  },
  "language_info": {
   "codemirror_mode": {
    "name": "ipython",
    "version": 3
   },
   "file_extension": ".py",
   "mimetype": "text/x-python",
   "name": "python",
   "nbconvert_exporter": "python",
   "pygments_lexer": "ipython3",
   "version": "3.10.17"
  }
 },
 "nbformat": 4,
 "nbformat_minor": 4
}
