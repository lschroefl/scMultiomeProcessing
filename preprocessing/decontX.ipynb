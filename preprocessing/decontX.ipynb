{
 "cells": [
  {
   "cell_type": "markdown",
   "metadata": {
    "vscode": {
     "languageId": "plaintext"
    }
   },
   "source": [
    "## LOAD LIBRARIES"
   ]
  },
  {
   "cell_type": "code",
   "execution_count": 5,
   "metadata": {},
   "outputs": [],
   "source": [
    "import scanpy as sc\n",
    "import numpy as np\n",
    "import matplotlib.pyplot as plt\n",
    "import scipy\n",
    "import pandas as pd\n",
    "import os"
   ]
  },
  {
   "cell_type": "markdown",
   "metadata": {},
   "source": [
    "## LOAD DATA"
   ]
  },
  {
   "cell_type": "code",
   "execution_count": 6,
   "metadata": {},
   "outputs": [
    {
     "name": "stdout",
     "output_type": "stream",
     "text": [
      "['multiome95_VE-PC_E95_wholeEmbryo_VE_2_IGO_17225_3', 'multiome95_VE-PC_Guttube_DE_IGO_17225_2', 'multiome95_VE-PC_wholeEmbryo_VE_1_IGO_17225_1']\n"
     ]
    },
    {
     "name": "stderr",
     "output_type": "stream",
     "text": [
      "/home/schroel1/miniconda3/envs/workshop_sail/lib/python3.10/site-packages/anndata/_core/anndata.py:1820: UserWarning: Variable names are not unique. To make them unique, call `.var_names_make_unique`.\n",
      "  utils.warn_names_duplicates(\"var\")\n",
      "/home/schroel1/miniconda3/envs/workshop_sail/lib/python3.10/site-packages/anndata/_core/anndata.py:1820: UserWarning: Variable names are not unique. To make them unique, call `.var_names_make_unique`.\n",
      "  utils.warn_names_duplicates(\"var\")\n",
      "/home/schroel1/miniconda3/envs/workshop_sail/lib/python3.10/site-packages/anndata/_core/anndata.py:1820: UserWarning: Variable names are not unique. To make them unique, call `.var_names_make_unique`.\n",
      "  utils.warn_names_duplicates(\"var\")\n",
      "/home/schroel1/miniconda3/envs/workshop_sail/lib/python3.10/site-packages/anndata/_core/anndata.py:1820: UserWarning: Variable names are not unique. To make them unique, call `.var_names_make_unique`.\n",
      "  utils.warn_names_duplicates(\"var\")\n",
      "/home/schroel1/miniconda3/envs/workshop_sail/lib/python3.10/site-packages/anndata/_core/anndata.py:1820: UserWarning: Variable names are not unique. To make them unique, call `.var_names_make_unique`.\n",
      "  utils.warn_names_duplicates(\"var\")\n",
      "/home/schroel1/miniconda3/envs/workshop_sail/lib/python3.10/site-packages/anndata/_core/anndata.py:1820: UserWarning: Variable names are not unique. To make them unique, call `.var_names_make_unique`.\n",
      "  utils.warn_names_duplicates(\"var\")\n"
     ]
    }
   ],
   "source": [
    "input_path = '/data/hadjantalab/lucas/sonja_project/preprocessing/mapping/multiome95'\n",
    "\n",
    "files = os.listdir(input_path)\n",
    "print(files)\n",
    "# Store AnnData objects in a dictionary\n",
    "adata_dict_filtered = {}\n",
    "\n",
    "for file in files:\n",
    "    h5_path = os.path.join(input_path, file, file, \"outs\", \"filtered_feature_bc_matrix.h5\")\n",
    "    adata_dict_filtered[f'{file}'] = sc.read_10x_h5(h5_path)\n"
   ]
  },
  {
   "cell_type": "code",
   "execution_count": 7,
   "metadata": {},
   "outputs": [
    {
     "name": "stdout",
     "output_type": "stream",
     "text": [
      "['multiome95_VE-PC_E95_wholeEmbryo_VE_2_IGO_17225_3', 'multiome95_VE-PC_Guttube_DE_IGO_17225_2', 'multiome95_VE-PC_wholeEmbryo_VE_1_IGO_17225_1']\n"
     ]
    },
    {
     "name": "stderr",
     "output_type": "stream",
     "text": [
      "/home/schroel1/miniconda3/envs/workshop_sail/lib/python3.10/site-packages/anndata/_core/anndata.py:1820: UserWarning: Variable names are not unique. To make them unique, call `.var_names_make_unique`.\n",
      "  utils.warn_names_duplicates(\"var\")\n",
      "/home/schroel1/miniconda3/envs/workshop_sail/lib/python3.10/site-packages/anndata/_core/anndata.py:1820: UserWarning: Variable names are not unique. To make them unique, call `.var_names_make_unique`.\n",
      "  utils.warn_names_duplicates(\"var\")\n",
      "/home/schroel1/miniconda3/envs/workshop_sail/lib/python3.10/site-packages/anndata/_core/anndata.py:1820: UserWarning: Variable names are not unique. To make them unique, call `.var_names_make_unique`.\n",
      "  utils.warn_names_duplicates(\"var\")\n",
      "/home/schroel1/miniconda3/envs/workshop_sail/lib/python3.10/site-packages/anndata/_core/anndata.py:1820: UserWarning: Variable names are not unique. To make them unique, call `.var_names_make_unique`.\n",
      "  utils.warn_names_duplicates(\"var\")\n",
      "/home/schroel1/miniconda3/envs/workshop_sail/lib/python3.10/site-packages/anndata/_core/anndata.py:1820: UserWarning: Variable names are not unique. To make them unique, call `.var_names_make_unique`.\n",
      "  utils.warn_names_duplicates(\"var\")\n",
      "/home/schroel1/miniconda3/envs/workshop_sail/lib/python3.10/site-packages/anndata/_core/anndata.py:1820: UserWarning: Variable names are not unique. To make them unique, call `.var_names_make_unique`.\n",
      "  utils.warn_names_duplicates(\"var\")\n"
     ]
    }
   ],
   "source": [
    "input_path = '/data/hadjantalab/lucas/sonja_project/preprocessing/mapping/multiome95'\n",
    "\n",
    "files = os.listdir(input_path)\n",
    "print(files)\n",
    "# Store AnnData objects in a dictionary\n",
    "adata_dict_raw = {}\n",
    "\n",
    "for file in files:\n",
    "    h5_path = os.path.join(input_path, file, file, \"outs\", \"raw_feature_bc_matrix.h5\")\n",
    "    adata_dict_raw[f'{file}'] = sc.read_10x_h5(h5_path)\n"
   ]
  },
  {
   "cell_type": "code",
   "execution_count": 8,
   "metadata": {},
   "outputs": [],
   "source": [
    "for key in adata_dict_filtered: \n",
    "    adata_dict_filtered[key].var_names_make_unique()\n",
    "for key in adata_dict_raw: \n",
    "    adata_dict_raw[key].var_names_make_unique()"
   ]
  },
  {
   "cell_type": "code",
   "execution_count": 19,
   "metadata": {},
   "outputs": [],
   "source": [
    "adata_ve1_filtered = adata_dict_filtered['multiome95_VE-PC_wholeEmbryo_VE_1_IGO_17225_1'] \n",
    "adata_ve2_filtered = adata_dict_filtered['multiome95_VE-PC_E95_wholeEmbryo_VE_2_IGO_17225_3'] \n",
    "adata_de_filtered = adata_dict_filtered['multiome95_VE-PC_Guttube_DE_IGO_17225_2'] \n",
    "\n",
    "adata_ve1_raw = adata_dict_raw['multiome95_VE-PC_wholeEmbryo_VE_1_IGO_17225_1'] \n",
    "adata_ve2_raw = adata_dict_raw['multiome95_VE-PC_E95_wholeEmbryo_VE_2_IGO_17225_3'] \n",
    "adata_de_raw = adata_dict_raw['multiome95_VE-PC_Guttube_DE_IGO_17225_2'] \n"
   ]
  },
  {
   "cell_type": "markdown",
   "metadata": {},
   "source": [
    "## DECONTX"
   ]
  },
  {
   "cell_type": "code",
   "execution_count": 14,
   "metadata": {},
   "outputs": [
    {
     "name": "stderr",
     "output_type": "stream",
     "text": [
      "/data/hadjantalab/tmp2/ipykernel_4816/533952983.py:8: DeprecationWarning: The global conversion available with activate() is deprecated and will be removed in the next major release. Use a local converter.\n",
      "  anndata2ri.activate()\n"
     ]
    }
   ],
   "source": [
    "## first thing before importing rpy2 is to set R_HOME\n",
    "os.environ[\"R_HOME\"] = \"/home/schroel1/miniconda3/envs/workshop_sail/lib/R\"\n",
    "\n",
    "\n",
    "import rpy2\n",
    "import anndata2ri\n",
    "\n",
    "\n",
    "anndata2ri.activate()\n",
    "%load_ext rpy2.ipython"
   ]
  },
  {
   "cell_type": "code",
   "execution_count": 17,
   "metadata": {
    "scrolled": true
   },
   "outputs": [
    {
     "data": {
      "text/plain": [
       "Loading required package: SingleCellExperiment\n",
       "Loading required package: SummarizedExperiment\n",
       "Loading required package: MatrixGenerics\n",
       "Loading required package: matrixStats\n",
       "\n",
       "Attaching package: ‘MatrixGenerics’\n",
       "\n",
       "The following objects are masked from ‘package:matrixStats’:\n",
       "\n",
       "    colAlls, colAnyNAs, colAnys, colAvgsPerRowSet, colCollapse,\n",
       "    colCounts, colCummaxs, colCummins, colCumprods, colCumsums,\n",
       "    colDiffs, colIQRDiffs, colIQRs, colLogSumExps, colMadDiffs,\n",
       "    colMads, colMaxs, colMeans2, colMedians, colMins, colOrderStats,\n",
       "    colProds, colQuantiles, colRanges, colRanks, colSdDiffs, colSds,\n",
       "    colSums2, colTabulates, colVarDiffs, colVars, colWeightedMads,\n",
       "    colWeightedMeans, colWeightedMedians, colWeightedSds,\n",
       "    colWeightedVars, rowAlls, rowAnyNAs, rowAnys, rowAvgsPerColSet,\n",
       "    rowCollapse, rowCounts, rowCummaxs, rowCummins, rowCumprods,\n",
       "    rowCumsums, rowDiffs, rowIQRDiffs, rowIQRs, rowLogSumExps,\n",
       "    rowMadDiffs, rowMads, rowMaxs, rowMeans2, rowMedians, rowMins,\n",
       "    rowOrderStats, rowProds, rowQuantiles, rowRanges, rowRanks,\n",
       "    rowSdDiffs, rowSds, rowSums2, rowTabulates, rowVarDiffs, rowVars,\n",
       "    rowWeightedMads, rowWeightedMeans, rowWeightedMedians,\n",
       "    rowWeightedSds, rowWeightedVars\n",
       "\n",
       "Loading required package: GenomicRanges\n",
       "Loading required package: stats4\n",
       "Loading required package: BiocGenerics\n",
       "\n",
       "Attaching package: ‘BiocGenerics’\n",
       "\n",
       "The following objects are masked from ‘package:stats’:\n",
       "\n",
       "    IQR, mad, sd, var, xtabs\n",
       "\n",
       "The following objects are masked from ‘package:base’:\n",
       "\n",
       "    anyDuplicated, aperm, append, as.data.frame, basename, cbind,\n",
       "    colnames, dirname, do.call, duplicated, eval, evalq, Filter, Find,\n",
       "    get, grep, grepl, intersect, is.unsorted, lapply, Map, mapply,\n",
       "    match, mget, order, paste, pmax, pmax.int, pmin, pmin.int,\n",
       "    Position, rank, rbind, Reduce, rownames, sapply, saveRDS, setdiff,\n",
       "    table, tapply, union, unique, unsplit, which.max, which.min\n",
       "\n",
       "Loading required package: S4Vectors\n",
       "\n",
       "Attaching package: ‘S4Vectors’\n",
       "\n",
       "The following object is masked from ‘package:utils’:\n",
       "\n",
       "    findMatches\n",
       "\n",
       "The following objects are masked from ‘package:base’:\n",
       "\n",
       "    expand.grid, I, unname\n",
       "\n",
       "Loading required package: IRanges\n",
       "Loading required package: GenomeInfoDb\n",
       "Loading required package: Biobase\n",
       "Welcome to Bioconductor\n",
       "\n",
       "    Vignettes contain introductory material; view with\n",
       "    'browseVignettes()'. To cite Bioconductor, see\n",
       "    'citation(\"Biobase\")', and for packages 'citation(\"pkgname\")'.\n",
       "\n",
       "\n",
       "Attaching package: ‘Biobase’\n",
       "\n",
       "The following object is masked from ‘package:MatrixGenerics’:\n",
       "\n",
       "    rowMedians\n",
       "\n",
       "The following objects are masked from ‘package:matrixStats’:\n",
       "\n",
       "    anyMissing, rowMedians\n",
       "\n",
       "Loading required package: Matrix\n",
       "\n",
       "Attaching package: ‘Matrix’\n",
       "\n",
       "The following object is masked from ‘package:S4Vectors’:\n",
       "\n",
       "    expand\n",
       "\n",
       "\n",
       "Attaching package: ‘celda’\n",
       "\n",
       "The following object is masked from ‘package:S4Vectors’:\n",
       "\n",
       "    params\n",
       "\n"
      ]
     },
     "metadata": {},
     "output_type": "display_data"
    }
   ],
   "source": [
    "%%R \n",
    "library(celda)\n",
    "library(SingleCellExperiment)"
   ]
  },
  {
   "cell_type": "code",
   "execution_count": 20,
   "metadata": {},
   "outputs": [
    {
     "name": "stdout",
     "output_type": "stream",
     "text": [
      "class: SingleCellExperiment \n",
      "dim: 32285 2370 \n",
      "metadata(0):\n",
      "assays(1): X\n",
      "rownames(32285): Xkr4 Gm1992 ... AC234645.1 AC149090.1\n",
      "rowData names(4): gene_ids feature_types genome interval\n",
      "colnames(2370): AAACAGCCAACAGCCT-1 AAACAGCCACAAGCCT-1 ...\n",
      "  TTTGTGGCATTTAAGC-1 TTTGTTGGTTTATGGG-1\n",
      "colData names(0):\n",
      "reducedDimNames(0):\n",
      "mainExpName: NULL\n",
      "altExpNames(0):\n"
     ]
    }
   ],
   "source": [
    "%%R -i adata_ve1_filtered -i adata_ve2_filtered -i adata_de_filtered -i adata_ve1_raw -i adata_ve2_raw -i adata_de_raw\n",
    "adata_ve1_filtered"
   ]
  },
  {
   "cell_type": "code",
   "execution_count": 21,
   "metadata": {},
   "outputs": [
    {
     "data": {
      "text/plain": [
       "Thu May 15 15:12:36 2025 ..  2370  cells in the background matrix were removed as they were found in  the filtered matrix.\n",
       "--------------------------------------------------\n",
       "Starting DecontX\n",
       "--------------------------------------------------\n",
       "Thu May 15 15:12:38 2025 .. Analyzing all cells\n",
       "Thu May 15 15:12:39 2025 .... Generating UMAP and estimating cell types\n",
       "Thu May 15 15:13:03 2025 .... Estimating contamination\n",
       "Thu May 15 15:13:06 2025 ...... Completed iteration: 10 | converge: 0.01635\n",
       "Thu May 15 15:13:08 2025 ...... Completed iteration: 20 | converge: 0.01039\n",
       "Thu May 15 15:13:09 2025 ...... Completed iteration: 30 | converge: 0.007448\n",
       "Thu May 15 15:13:12 2025 ...... Completed iteration: 40 | converge: 0.004775\n",
       "Thu May 15 15:13:14 2025 ...... Completed iteration: 50 | converge: 0.003685\n",
       "Thu May 15 15:13:16 2025 ...... Completed iteration: 60 | converge: 0.002958\n",
       "Thu May 15 15:13:18 2025 ...... Completed iteration: 70 | converge: 0.002266\n",
       "Thu May 15 15:13:20 2025 ...... Completed iteration: 80 | converge: 0.001852\n",
       "Thu May 15 15:13:22 2025 ...... Completed iteration: 90 | converge: 0.001542\n",
       "Thu May 15 15:13:24 2025 ...... Completed iteration: 100 | converge: 0.001208\n",
       "Thu May 15 15:13:25 2025 ...... Completed iteration: 109 | converge: 0.0009904\n",
       "Thu May 15 15:13:25 2025 .. Calculating final decontaminated matrix\n",
       "--------------------------------------------------\n",
       "Completed DecontX. Total time: 48.84845 secs\n",
       "--------------------------------------------------\n",
       "Thu May 15 15:13:28 2025 ..  2587  cells in the background matrix were removed as they were found in  the filtered matrix.\n",
       "--------------------------------------------------\n",
       "Starting DecontX\n",
       "--------------------------------------------------\n",
       "Thu May 15 15:13:28 2025 .. Analyzing all cells\n",
       "Thu May 15 15:13:28 2025 .... Generating UMAP and estimating cell types\n",
       "Thu May 15 15:14:17 2025 .... Estimating contamination\n",
       "Thu May 15 15:14:20 2025 ...... Completed iteration: 10 | converge: 0.02934\n",
       "Thu May 15 15:14:22 2025 ...... Completed iteration: 20 | converge: 0.006052\n",
       "Thu May 15 15:14:24 2025 ...... Completed iteration: 30 | converge: 0.00344\n",
       "Thu May 15 15:14:26 2025 ...... Completed iteration: 40 | converge: 0.002083\n",
       "Thu May 15 15:14:29 2025 ...... Completed iteration: 50 | converge: 0.001396\n",
       "Thu May 15 15:14:31 2025 ...... Completed iteration: 57 | converge: 0.0009899\n",
       "Thu May 15 15:14:31 2025 .. Calculating final decontaminated matrix\n",
       "--------------------------------------------------\n",
       "Completed DecontX. Total time: 1.108114 mins\n",
       "--------------------------------------------------\n",
       "Thu May 15 15:14:35 2025 ..  2133  cells in the background matrix were removed as they were found in  the filtered matrix.\n",
       "--------------------------------------------------\n",
       "Starting DecontX\n",
       "--------------------------------------------------\n",
       "Thu May 15 15:14:36 2025 .. Analyzing all cells\n",
       "Thu May 15 15:14:36 2025 .... Generating UMAP and estimating cell types\n",
       "Thu May 15 15:15:12 2025 .... Estimating contamination\n",
       "Thu May 15 15:15:15 2025 ...... Completed iteration: 10 | converge: 0.00905\n",
       "Thu May 15 15:15:17 2025 ...... Completed iteration: 20 | converge: 0.003302\n",
       "Thu May 15 15:15:19 2025 ...... Completed iteration: 30 | converge: 0.002371\n",
       "Thu May 15 15:15:21 2025 ...... Completed iteration: 40 | converge: 0.001852\n",
       "Thu May 15 15:15:23 2025 ...... Completed iteration: 50 | converge: 0.001526\n",
       "Thu May 15 15:15:25 2025 ...... Completed iteration: 60 | converge: 0.001154\n",
       "Thu May 15 15:15:27 2025 ...... Completed iteration: 68 | converge: 0.0009982\n",
       "Thu May 15 15:15:27 2025 .. Calculating final decontaminated matrix\n",
       "--------------------------------------------------\n",
       "Completed DecontX. Total time: 52.89622 secs\n",
       "--------------------------------------------------\n"
      ]
     },
     "metadata": {},
     "output_type": "display_data"
    }
   ],
   "source": [
    "%%R\n",
    "\n",
    "# Save the count data in X\n",
    "counts(adata_ve1_filtered) <- assay(adata_ve1_filtered, 'X')\n",
    "# Save rge raw count data in X\n",
    "counts(adata_ve1_raw) <- assay(adata_ve1_raw, 'X')\n",
    "adata_ve1 <- decontX(adata_ve1_filtered, background = adata_ve1_raw)\n",
    "\n",
    "# Save the count data in X\n",
    "counts(adata_ve2_filtered) <- assay(adata_ve2_filtered, 'X')\n",
    "# Save rge raw count data in X\n",
    "counts(adata_ve2_raw) <- assay(adata_ve2_raw, 'X')\n",
    "adata_ve2 <- decontX(adata_ve2_filtered, background = adata_ve2_raw)\n",
    "\n",
    "# Save the count data in X\n",
    "counts(adata_de_filtered) <- assay(adata_de_filtered, 'X')\n",
    "# Save rge raw count data in X\n",
    "counts(adata_de_raw) <- assay(adata_de_raw, 'X')\n",
    "adata_de <- decontX(adata_de_filtered, background = adata_de_raw)"
   ]
  },
  {
   "cell_type": "code",
   "execution_count": 24,
   "metadata": {},
   "outputs": [
    {
     "name": "stdout",
     "output_type": "stream",
     "text": [
      "class: SingleCellExperiment \n",
      "dim: 32285 2370 \n",
      "metadata(1): decontX\n",
      "assays(3): X counts decontXcounts\n",
      "rownames(32285): Xkr4 Gm1992 ... AC234645.1 AC149090.1\n",
      "rowData names(4): gene_ids feature_types genome interval\n",
      "colnames(2370): AAACAGCCAACAGCCT-1 AAACAGCCACAAGCCT-1 ...\n",
      "  TTTGTGGCATTTAAGC-1 TTTGTTGGTTTATGGG-1\n",
      "colData names(2): decontX_contamination decontX_clusters\n",
      "reducedDimNames(1): decontX_UMAP\n",
      "mainExpName: NULL\n",
      "altExpNames(0):\n"
     ]
    }
   ],
   "source": [
    "%%R -o adata_ve1 -o adata_ve2 -o adata_de\n",
    "adata_ve1"
   ]
  },
  {
   "cell_type": "code",
   "execution_count": 25,
   "metadata": {},
   "outputs": [
    {
     "data": {
      "text/plain": [
       "AnnData object with n_obs × n_vars = 2370 × 32285\n",
       "    obs: 'decontX_contamination', 'decontX_clusters'\n",
       "    var: 'gene_ids', 'feature_types', 'genome', 'interval'\n",
       "    uns: np.str_('decontX')\n",
       "    obsm: 'decontX_UMAP'\n",
       "    layers: 'counts', 'decontXcounts'"
      ]
     },
     "execution_count": 25,
     "metadata": {},
     "output_type": "execute_result"
    }
   ],
   "source": [
    "adata_ve1"
   ]
  },
  {
   "cell_type": "markdown",
   "metadata": {},
   "source": [
    "## SOME CARPENTRY CAUSE APPARENTLY OTHERWISE I CAN NOT SAVE THE FILE"
   ]
  },
  {
   "cell_type": "code",
   "execution_count": 47,
   "metadata": {},
   "outputs": [],
   "source": [
    "adata_ve1.obs.index = adata_ve1.obs.index.astype('object')\n",
    "adata_ve1.var.index = adata_ve1.var.index.astype('object')\n",
    "\n",
    "adata_ve2.obs.index = adata_ve2.obs.index.astype('object')\n",
    "adata_ve2.var.index = adata_ve2.var.index.astype('object')\n",
    "\n",
    "adata_de.obs.index = adata_de.obs.index.astype('object')\n",
    "adata_de.var.index = adata_de.var.index.astype('object')\n"
   ]
  },
  {
   "cell_type": "code",
   "execution_count": 48,
   "metadata": {},
   "outputs": [],
   "source": [
    "adata_ve1_decontx = sc.AnnData(X = adata_ve1.layers['decontXcounts'], \n",
    "                            obs = adata_ve1.obs, \n",
    "                            var = adata_ve1.var)\n",
    "adata_ve1_decontx.layers['raw'] = adata_ve1.X.copy()\n",
    "adata_ve1_decontx.obs['contamination_prop'] = adata_ve1.uns['decontX']['contamination']\n",
    "\n",
    "\n",
    "adata_ve2_decontx = sc.AnnData(X = adata_ve2.layers['decontXcounts'], \n",
    "                            obs = adata_ve2.obs, \n",
    "                            var = adata_ve2.var)\n",
    "adata_ve2_decontx.layers['raw'] = adata_ve2.X.copy()\n",
    "adata_ve2_decontx.obs['contamination_prop'] = adata_ve2.uns['decontX']['contamination']\n",
    "\n",
    "\n",
    "adata_de_decontx = sc.AnnData(X = adata_de.layers['decontXcounts'], \n",
    "                            obs = adata_de.obs, \n",
    "                            var = adata_de.var)\n",
    "adata_de_decontx.layers['raw'] = adata_de.X.copy()\n",
    "adata_de_decontx.obs['contamination_prop'] = adata_de.uns['decontX']['contamination']\n"
   ]
  },
  {
   "cell_type": "markdown",
   "metadata": {},
   "source": [
    "## SAVE DATA"
   ]
  },
  {
   "cell_type": "code",
   "execution_count": 49,
   "metadata": {},
   "outputs": [
    {
     "name": "stdout",
     "output_type": "stream",
     "text": [
      "['multiome95_VE-PC_E95_wholeEmbryo_VE_2_IGO_17225_3', 'multiome95_VE-PC_Guttube_DE_IGO_17225_2', 'multiome95_VE-PC_wholeEmbryo_VE_1_IGO_17225_1']\n",
      "/data/hadjantalab/lucas/sonja_project/preprocessing/mapping/multiome95/multiome95_VE-PC_E95_wholeEmbryo_VE_2_IGO_17225_3/multiome95_VE-PC_E95_wholeEmbryo_VE_2_IGO_17225_3/outs/decontx\n",
      "/data/hadjantalab/lucas/sonja_project/preprocessing/mapping/multiome95/multiome95_VE-PC_Guttube_DE_IGO_17225_2/multiome95_VE-PC_Guttube_DE_IGO_17225_2/outs/decontx\n",
      "/data/hadjantalab/lucas/sonja_project/preprocessing/mapping/multiome95/multiome95_VE-PC_wholeEmbryo_VE_1_IGO_17225_1/multiome95_VE-PC_wholeEmbryo_VE_1_IGO_17225_1/outs/decontx\n"
     ]
    }
   ],
   "source": [
    "input_path = '/data/hadjantalab/lucas/sonja_project/preprocessing/mapping/multiome95'\n",
    "\n",
    "files = os.listdir(input_path)\n",
    "print(files)\n",
    "\n",
    "for file in files:\n",
    "    output_path = os.path.join(input_path, file, file, \"outs/decontx\")\n",
    "    print(output_path)\n",
    "    os.makedirs(output_path, exist_ok = True)"
   ]
  },
  {
   "cell_type": "code",
   "execution_count": 50,
   "metadata": {},
   "outputs": [],
   "source": [
    "data_path = \"/data/hadjantalab/lucas/sonja_project/preprocessing/mapping/multiome95/multiome95_VE-PC_wholeEmbryo_VE_1_IGO_17225_1/multiome95_VE-PC_wholeEmbryo_VE_1_IGO_17225_1/outs/decontx\"\n",
    "file_path = os.path.join(data_path, 'adata_decontx.h5ad')\n",
    "adata_ve1_decontx.write_h5ad(file_path)\n",
    "\n",
    "data_path = \"/data/hadjantalab/lucas/sonja_project/preprocessing/mapping/multiome95/multiome95_VE-PC_E95_wholeEmbryo_VE_2_IGO_17225_3/multiome95_VE-PC_E95_wholeEmbryo_VE_2_IGO_17225_3/outs/decontx\"\n",
    "file_path = os.path.join(data_path, 'adata_decontx.h5ad')\n",
    "adata_ve2_decontx.write_h5ad(file_path)\n",
    "\n",
    "data_path = \"/data/hadjantalab/lucas/sonja_project/preprocessing/mapping/multiome95/multiome95_VE-PC_Guttube_DE_IGO_17225_2/multiome95_VE-PC_Guttube_DE_IGO_17225_2/outs/decontx\"\n",
    "file_path = os.path.join(data_path, 'adata_decontx.h5ad')\n",
    "adata_de_decontx.write_h5ad(file_path)\n"
   ]
  },
  {
   "cell_type": "code",
   "execution_count": null,
   "metadata": {},
   "outputs": [],
   "source": []
  },
  {
   "cell_type": "code",
   "execution_count": null,
   "metadata": {},
   "outputs": [],
   "source": []
  },
  {
   "cell_type": "code",
   "execution_count": null,
   "metadata": {},
   "outputs": [],
   "source": []
  }
 ],
 "metadata": {
  "kernelspec": {
   "display_name": "workshop_sail",
   "language": "python",
   "name": "workshop_sail"
  },
  "language_info": {
   "codemirror_mode": {
    "name": "ipython",
    "version": 3
   },
   "file_extension": ".py",
   "mimetype": "text/x-python",
   "name": "python",
   "nbconvert_exporter": "python",
   "pygments_lexer": "ipython3",
   "version": "3.10.17"
  }
 },
 "nbformat": 4,
 "nbformat_minor": 4
}
